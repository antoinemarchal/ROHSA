{
  "nbformat": 4,
  "nbformat_minor": 0,
  "metadata": {
    "colab": {
      "name": "ROHSApy.ipynb",
      "version": "0.3.2",
      "provenance": [],
      "collapsed_sections": [],
      "toc_visible": true,
      "include_colab_link": true
    },
    "kernelspec": {
      "name": "python3",
      "display_name": "Python 3"
    }
  },
  "cells": [
    {
      "cell_type": "markdown",
      "metadata": {
        "id": "view-in-github",
        "colab_type": "text"
      },
      "source": [
        "[View in Colaboratory](https://colab.research.google.com/github/antoinemarchal/ROHSA/blob/master/ROHSApy.ipynb)"
      ]
    },
    {
      "metadata": {
        "id": "za0aJaSFsCdD",
        "colab_type": "text"
      },
      "cell_type": "markdown",
      "source": [
        "### About this notebook\n",
        "\n",
        "This is a notebook to show you how to install and run ROHSA. It was built to run on [Google Colab](https://colab.research.google.com) but should work on many systems. This [link](https://colab.research.google.com/drive/1i5ehl1VVpe0JKxFEq0lscIo-ml5uWWtm) should find a version of this notebook launched on colab.\n",
        "\n",
        "#### Notebook Authors:\n",
        "Joshua Peek, Antoine Marchal"
      ]
    },
    {
      "metadata": {
        "id": "nthMx8dicmus",
        "colab_type": "text"
      },
      "cell_type": "markdown",
      "source": [
        "## Installing RHOSA\n",
        "[ROHSA](https://github.com/antoinemarchal/ROHSA) is a code for decomposing PPV emission cubes into Gaussians. It is written in FORTRAN90 and thus needs to be installed via make. We clone the repository from github, change to the correct directory and make."
      ]
    },
    {
      "metadata": {
        "id": "v2pCG4EKp5Ny",
        "colab_type": "code",
        "colab": {
          "base_uri": "https://localhost:8080/",
          "height": 401
        },
        "outputId": "60b885f3-4ce1-407c-bc37-2dc1737e30a1"
      },
      "cell_type": "code",
      "source": [
        "!git clone https://github.com/antoinemarchal/ROHSA.git ROHSA\n",
        "import os\n",
        "os.chdir('ROHSA/src')\n",
        "!make\n",
        "os.chdir('../../')"
      ],
      "execution_count": 1,
      "outputs": [
        {
          "output_type": "stream",
          "text": [
            "Cloning into 'ROHSA'...\n",
            "remote: Enumerating objects: 1123, done.\u001b[K\n",
            "remote: Total 1123 (delta 0), reused 0 (delta 0), pack-reused 1123\u001b[K\n",
            "Receiving objects: 100% (1123/1123), 4.71 MiB | 25.90 MiB/s, done.\n",
            "Resolving deltas: 100% (757/757), done.\n",
            "gfortran -O2 -I/usr/local/include -ffixed-line-length-none  -c blas.f\n",
            "gfortran -O2 -I/usr/local/include -ffixed-line-length-none  -c lbfgsb.f\n",
            "gfortran -O2 -I/usr/local/include -ffixed-line-length-none  -c linpack.f\n",
            "gfortran -O2 -I/usr/local/include -ffixed-line-length-none  -c timer.f\n",
            "gfortran -O2 -I/usr/local/include -ffixed-line-length-none  -c mod_constants.f90\n",
            "gfortran -O2 -I/usr/local/include -ffixed-line-length-none  -c mod_convert.f90\n",
            "gfortran -O2 -I/usr/local/include -ffixed-line-length-none  -c mod_inout.f90\n",
            "gfortran -O2 -I/usr/local/include -ffixed-line-length-none  -c mod_array.f90\n",
            "gfortran -O2 -I/usr/local/include -ffixed-line-length-none  -c mod_optimize.f90\n",
            "gfortran -O2 -I/usr/local/include -ffixed-line-length-none  -c mod_functions.f90\n",
            "gfortran -O2 -I/usr/local/include -ffixed-line-length-none  -c mod_start.f90\n",
            "gfortran -O2 -I/usr/local/include -ffixed-line-length-none  -c mod_rohsa.f90\n",
            "gfortran -O2 -I/usr/local/include -ffixed-line-length-none  -c main.f90\n",
            "gfortran blas.o lbfgsb.o linpack.o timer.o mod_constants.o mod_convert.o mod_inout.o mod_array.o mod_optimize.o mod_functions.o mod_start.o mod_rohsa.o main.o -lm -g -O2  -o ROHSA\n"
          ],
          "name": "stdout"
        }
      ]
    },
    {
      "metadata": {
        "id": "WpejrNVkdL6P",
        "colab_type": "text"
      },
      "cell_type": "markdown",
      "source": [
        "## Getting Data\n",
        "Our example data comes from the GHIGLS Survey from Martin et al. 2015.  "
      ]
    },
    {
      "metadata": {
        "id": "vVsHkW-RxXje",
        "colab_type": "code",
        "colab": {
          "base_uri": "https://localhost:8080/",
          "height": 204
        },
        "outputId": "b07c1b4f-ce03-4665-9fe8-172af5617eac"
      },
      "cell_type": "code",
      "source": [
        "!wget https://www.cita.utoronto.ca/GHIGLS/FITS/GHIGLS_DFN_Tb.fits"
      ],
      "execution_count": 2,
      "outputs": [
        {
          "output_type": "stream",
          "text": [
            "--2018-10-20 14:05:39--  https://www.cita.utoronto.ca/GHIGLS/FITS/GHIGLS_DFN_Tb.fits\n",
            "Resolving www.cita.utoronto.ca (www.cita.utoronto.ca)... 128.100.76.44\n",
            "Connecting to www.cita.utoronto.ca (www.cita.utoronto.ca)|128.100.76.44|:443... connected.\n",
            "HTTP request sent, awaiting response... 200 OK\n",
            "Length: 2485440 (2.4M) [image/fits]\n",
            "Saving to: ‘GHIGLS_DFN_Tb.fits’\n",
            "\n",
            "GHIGLS_DFN_Tb.fits  100%[===================>]   2.37M  3.87MB/s    in 0.6s    \n",
            "\n",
            "2018-10-20 14:05:40 (3.87 MB/s) - ‘GHIGLS_DFN_Tb.fits’ saved [2485440/2485440]\n",
            "\n"
          ],
          "name": "stdout"
        }
      ]
    },
    {
      "metadata": {
        "id": "1ZtdAcs6vFfJ",
        "colab_type": "text"
      },
      "cell_type": "markdown",
      "source": [
        "## Getting started with ROHSApy"
      ]
    },
    {
      "metadata": {
        "id": "B3H2QE-V5gc4",
        "colab_type": "text"
      },
      "cell_type": "markdown",
      "source": [
        "### Installation"
      ]
    },
    {
      "metadata": {
        "id": "CPyUbz3bvnGb",
        "colab_type": "code",
        "colab": {
          "base_uri": "https://localhost:8080/",
          "height": 384
        },
        "outputId": "246a6de7-0cbe-4b6e-fe72-3dd0655f61c6"
      },
      "cell_type": "code",
      "source": [
        "!pip install ROHSApy"
      ],
      "execution_count": 3,
      "outputs": [
        {
          "output_type": "stream",
          "text": [
            "Collecting ROHSApy\n",
            "  Downloading https://files.pythonhosted.org/packages/97/8c/947229442aa56540f1aad8ed56a035eae600b6d1d6eb6faf1ac37346c04e/ROHSApy-0.1.6.tar.gz\n",
            "Requirement already satisfied: numpy in /usr/local/lib/python3.6/dist-packages (from ROHSApy) (1.14.6)\n",
            "Requirement already satisfied: matplotlib in /usr/local/lib/python3.6/dist-packages (from ROHSApy) (2.1.2)\n",
            "Collecting astropy (from ROHSApy)\n",
            "\u001b[?25l  Downloading https://files.pythonhosted.org/packages/26/6f/d6993ad4dde9cfa7c51f9be218739302e1f01b5e1df2b59853084b26c439/astropy-3.0.5-cp36-cp36m-manylinux1_x86_64.whl (6.0MB)\n",
            "\u001b[K    100% |████████████████████████████████| 6.0MB 5.2MB/s \n",
            "\u001b[?25hRequirement already satisfied: pyparsing!=2.0.4,!=2.1.2,!=2.1.6,>=2.0.1 in /usr/local/lib/python3.6/dist-packages (from matplotlib->ROHSApy) (2.2.2)\n",
            "Requirement already satisfied: pytz in /usr/local/lib/python3.6/dist-packages (from matplotlib->ROHSApy) (2018.5)\n",
            "Requirement already satisfied: python-dateutil>=2.1 in /usr/local/lib/python3.6/dist-packages (from matplotlib->ROHSApy) (2.5.3)\n",
            "Requirement already satisfied: cycler>=0.10 in /usr/local/lib/python3.6/dist-packages (from matplotlib->ROHSApy) (0.10.0)\n",
            "Requirement already satisfied: six>=1.10 in /usr/local/lib/python3.6/dist-packages (from matplotlib->ROHSApy) (1.11.0)\n",
            "Building wheels for collected packages: ROHSApy\n",
            "  Running setup.py bdist_wheel for ROHSApy ... \u001b[?25l-\b \bdone\n",
            "\u001b[?25h  Stored in directory: /root/.cache/pip/wheels/94/e9/88/c3dc0fe503470fecd0c5925acf4e0cedd5794777944b5cb951\n",
            "Successfully built ROHSApy\n",
            "Installing collected packages: astropy, ROHSApy\n",
            "Successfully installed ROHSApy-0.1.6 astropy-3.0.5\n"
          ],
          "name": "stdout"
        }
      ]
    },
    {
      "metadata": {
        "id": "Rkt5KUPb5kUo",
        "colab_type": "text"
      },
      "cell_type": "markdown",
      "source": [
        "### Generate files for ROHSA with your data\n",
        "Here we run cube2dat that converts the fits file to a dat file readable by FORTRAN and generate a parameters file to run the code."
      ]
    },
    {
      "metadata": {
        "id": "N5wfFqLEvLK5",
        "colab_type": "code",
        "colab": {
          "base_uri": "https://localhost:8080/",
          "height": 51
        },
        "outputId": "305264a1-4e51-47eb-a20e-5e9447be5ab7"
      },
      "cell_type": "code",
      "source": [
        "import numpy as np\n",
        "from astropy.io import fits\n",
        "import matplotlib.pyplot as plt\n",
        "from ROHSApy import ROHSA\n",
        "\n",
        "fitsname = \"GHIGLS_DFN_Tb.fits\"\n",
        "hdu = fits.open(fitsname)\n",
        "hdr = hdu[0].header\n",
        "cube = hdu[0].data[0][150:350,:32,:32]\n",
        "\n",
        "filename = \"GHIGLS_DFN_Tb.dat\" #@param\n",
        "fileout = \"GHIGLS_DFN_Tb_gauss_run_0.dat\" #@param\n",
        "filename_noise = ''\n",
        "n_gauss = 3           #@param {type:\"slider\", min:1, max:12, step:1}                                                                                                                                                                                                                             \n",
        "lambda_amp = 100      #@param {type:\"slider\", min:0, max:10000, step:1}                                                                                                                                                                                                                                                                     \n",
        "lambda_mu = 100       #@param {type:\"slider\", min:0, max:10000, step:1}                                                                                                                                                                                                                                                          \n",
        "lambda_sig = 100      #@param {type:\"slider\", min:0, max:10000, step:1}                                                                                                                                                                                                                                                                    \n",
        "lambda_var_amp = 0.                                                                                                                                                                                                                                                           \n",
        "lambda_var_mu = 0.                                                                                                                                                                                                                                                        \n",
        "lambda_var_sig = 100. #@param {type:\"slider\", min:0, max:10000, step:1}                                                                                                                                                                                                                                                            \n",
        "amp_fact_init = 0.66  # times max amplitude of additional Gaussian                                                                                                                                                                                                                                                          \n",
        "sig_init = 4.         # dispersion of additional Gaussian                                                                                                                                                                                                                                                                   \n",
        "init_option = 'mean'  # init ROHSA with the mean or the std spectrum                                                                                                                                                                                                                                                      \n",
        "maxiter_init = 15000  # max iteration for L-BFGS-B alogorithm init mean                                                                                                                                                                                                                                        \n",
        "maxiter = 400         #@param {type:\"slider\", min:1, max:800, step:1}                                                                                                                                                                                                                                                         \n",
        "m = 10                # number of corrections used in the limited memory matrix                                                                                                                                                                                                                               \n",
        "noise = \".false.\"     # if false - STD map computed by ROHSA with lstd and ustd                                                                                                                                                                                                           \n",
        "regul = \".true.\"      # if true - activate regulation                                                                                                                                                                                                                                                                 \n",
        "descent = \".true.\"    #@param [\".true.\", \".false.\"]                                                                                                                                                                                                                       \n",
        "lstd = 1              #@param {type:\"slider\", min:1, max:400, step:1}                                                                                                                                                                                                                \n",
        "ustd = 20             #@param {type:\"slider\", min:1, max:400, step:1}                                                                                                                                                                                                                 \n",
        "iprint = -1           #@param [\"-1\", \"0\", \"1\"]                                                                                                                                                                                                                                                                                      \n",
        "iprint_init = -1      # print option init                                              \n",
        "save_grid = \".false.\" #@param [\".true.\", \".false.\"] \n",
        "\n",
        "core = ROHSA(cube)            \n",
        "core.cube2dat(filename=filename)\n",
        "core.gen_parameters(filename=filename, \n",
        "                    fileout=fileout,  \n",
        "                    n_gauss=n_gauss,\n",
        "                    lambda_amp=lambda_amp,\n",
        "                    lambda_mu=lambda_mu,\n",
        "                    lambda_sig=lambda_sig,\n",
        "                    lambda_var_sig=lambda_var_sig,\n",
        "                    maxiter=maxiter,\n",
        "                    descent=descent,\n",
        "                    lstd=lstd,\n",
        "                    ustd=ustd,\n",
        "                    iprint=iprint,\n",
        "                    save_grid=save_grid)"
      ],
      "execution_count": 10,
      "outputs": [
        {
          "output_type": "stream",
          "text": [
            "Generate GHIGLS_DFN_Tb.dat file\n",
            "Generate parameters.dat file\n"
          ],
          "name": "stdout"
        }
      ]
    },
    {
      "metadata": {
        "id": "UR8mvb8_zpSq",
        "colab_type": "text"
      },
      "cell_type": "markdown",
      "source": [
        "### Running ROHSA\n",
        "Here we run ROHSA on the data. This is invoking the parameter file parameters.txt. \n",
        "Note : If you want to use core.run() method, you have to add your executable in your own .bashrc - \n",
        "Here we use directly ROHSA from src"
      ]
    },
    {
      "metadata": {
        "id": "8j8KvTWb0kvM",
        "colab_type": "code",
        "colab": {
          "base_uri": "https://localhost:8080/",
          "height": 1428
        },
        "outputId": "d6b61da4-bf6a-48b6-d25e-b34533467c9d"
      },
      "cell_type": "code",
      "source": [
        "!./ROHSA/src/ROHSA parameters.txt"
      ],
      "execution_count": 11,
      "outputs": [
        {
          "output_type": "stream",
          "text": [
            " \n",
            " opening file and reading data\n",
            " -------------------------------------------------------------------------\n",
            "20 October 2018   2:06:57.011 PM\n",
            " \n",
            "   ____     ___    _   _   ____       _    \n",
            "  |  _ \\   / _ \\  | | | | / ___|     / \\   \n",
            "  | |_) | | | | | | |_| | \\___ \\    / _ \\  \n",
            "  |  _ <  | |_| | |  _  |  ___) |  / ___ \\ \n",
            "  |_| \\_\\  \\___/  |_| |_| |____/  /_/   \\_\\ \n",
            " \n",
            "  Version 1.2.1\n",
            "  ROHSA is released as open source code\n",
            "  Check out the documentation: https://antoinemarchal.github.io/ROHSA/\n",
            " \n",
            " run: ./ROHSA parameters.txt\n",
            " -------------------------------------------------------------------------\n",
            " fileout = 'GHIGLS_DFN_Tb_gauss_run_0.dat'\n",
            "\n",
            " ______Parameters_____\n",
            "\n",
            " n_gauss =            3\n",
            " n_gauss_add =            0\n",
            " lambda_amp =    100.00000000000000     \n",
            " lambda_mu =    100.00000000000000     \n",
            " lambda_sig =    100.00000000000000     \n",
            " lambda_var_amp =    0.0000000000000000     \n",
            " lambda_var_mu =    0.0000000000000000     \n",
            " lambda_var_sig =    100.00000000000000     \n",
            " amp_fact_init =   0.66000000000000003     \n",
            " sig_init =    4.0000000000000000     \n",
            " init_option = mean    \n",
            " maxiter_init =        15000\n",
            " maxiter =          400\n",
            " lstd =            1\n",
            " ustd =           20\n",
            " noise =  F\n",
            " regul =  T\n",
            " descent =  T\n",
            "\n",
            " dim_v, dim_y, dim_x =          200          32          32\n",
            " \n",
            " number of los =         1024\n",
            " nside =            5\n",
            "\n",
            " Reshape cube, new dimensions :\n",
            " dim_v, dim_y, dim_x =          200          32          32\n",
            "\n",
            " Compute mean and std spectrum\n",
            "                     Start iteration\n",
            "\n",
            " Start hierarchical descent\n",
            " Init mean spectrum\n",
            " Update level           0\n",
            " \n",
            " Interpolate parameters level            0\n",
            " Update level           1 >           2\n",
            " \n",
            " Interpolate parameters level            1\n",
            " Update level           2 >           4\n",
            " \n",
            " Interpolate parameters level            2\n",
            " Update level           3 >           8\n",
            " \n",
            " Interpolate parameters level            3\n",
            " Update level           4 >          16\n",
            " \n",
            " Interpolate parameters level            4\n",
            "\n",
            " Reshape cube, restore initial dimensions :\n",
            " dim_v, dim_y, dim_x =          200          32          32\n",
            "\n",
            " Update last level ...\n",
            "\n",
            "\n",
            " _____ Write output file _____\n",
            "\n",
            " ##################################################################\n",
            "20 October 2018   2:07:18.132 PM\n",
            "  Terminate\n",
            "                         ROHSA ALGORITHM\n",
            " \n",
            " ##################################################################\n"
          ],
          "name": "stdout"
        }
      ]
    },
    {
      "metadata": {
        "id": "FGjMub-kcCBp",
        "colab_type": "text"
      },
      "cell_type": "markdown",
      "source": [
        "### Reading the result of ROHSA\n",
        "read_gaussian() method allows you to read the output file generated by ROHSA. The structure of the cube is the following : \n",
        "\n",
        "* dim 1 = Gaussian parameters / Ordering : amplitude - position - dispersion\n",
        "\n",
        "* dim 2 and dim 3 = spatial axis\n",
        "\n",
        "Note that position and dispersion are in pixel unit\n"
      ]
    },
    {
      "metadata": {
        "id": "pu_SeqYl-B1O",
        "colab_type": "code",
        "colab": {
          "base_uri": "https://localhost:8080/",
          "height": 51
        },
        "outputId": "6a52a909-74e7-4895-884a-01909ce8d675"
      },
      "cell_type": "code",
      "source": [
        "gaussian = core.read_gaussian(\"GHIGLS_DFN_Tb_gauss_run_0.dat\")\n",
        "print(\"dim cube = \" + str(gaussian.shape))\n",
        "\n",
        "amplitude = gaussian[0::3]\n",
        "position = gaussian[1::3]\n",
        "dispersion = gaussian[2::3]"
      ],
      "execution_count": 12,
      "outputs": [
        {
          "output_type": "stream",
          "text": [
            "Opening data file\n",
            "dim cube = (9, 32, 32)\n"
          ],
          "name": "stdout"
        }
      ]
    },
    {
      "metadata": {
        "id": "O7S9qGITSWme",
        "colab_type": "text"
      },
      "cell_type": "markdown",
      "source": [
        "### Plot the first Gaussian component\n",
        "Here we plot the amplitude, the position and the dispersion of the first Gaussian + a random spectum of the cube."
      ]
    },
    {
      "metadata": {
        "id": "2OMMQBS6NK2a",
        "colab_type": "code",
        "colab": {
          "base_uri": "https://localhost:8080/",
          "height": 262
        },
        "outputId": "db3c9dce-fa8b-4e27-95d2-d8054ca21af6"
      },
      "cell_type": "code",
      "source": [
        "plt.figure(figsize=(12,5))\n",
        "plt.subplot(1,3,1)\n",
        "plt.imshow(amplitude[0], origin=\"lower\", cmap=\"inferno\")\n",
        "plt.subplot(1,3,2)\n",
        "plt.imshow(position[0], origin=\"lower\", cmap=\"coolwarm\")\n",
        "plt.subplot(1,3,3)\n",
        "plt.imshow(dispersion[0], origin=\"lower\", cmap=\"cubehelix\")\n"
      ],
      "execution_count": 15,
      "outputs": [
        {
          "output_type": "execute_result",
          "data": {
            "text/plain": [
              "<matplotlib.image.AxesImage at 0x7f6f4657e6a0>"
            ]
          },
          "metadata": {
            "tags": []
          },
          "execution_count": 15
        },
        {
          "output_type": "display_data",
          "data": {
            "image/png": "[encoded data removed]",
            "text/plain": [
              "<matplotlib.figure.Figure at 0x7f6f46641a20>"
            ]
          },
          "metadata": {
            "tags": []
          }
        }
      ]
    },
    {
      "metadata": {
        "id": "q4fxBYOHw928",
        "colab_type": "code",
        "colab": {
          "base_uri": "https://localhost:8080/",
          "height": 364
        },
        "outputId": "3e7121be-e744-4f94-a1ee-1e8b96d1c5c9"
      },
      "cell_type": "code",
      "source": [
        "core.plot_spect(gaussian,12,12)"
      ],
      "execution_count": 16,
      "outputs": [
        {
          "output_type": "execute_result",
          "data": {
            "text/plain": [
              "0"
            ]
          },
          "metadata": {
            "tags": []
          },
          "execution_count": 16
        },
        {
          "output_type": "display_data",
          "data": {
            "image/png": "[encoded data removed]",
            "text/plain": [
              "<matplotlib.figure.Figure at 0x7f6f466eb198>"
            ]
          },
          "metadata": {
            "tags": []
          }
        }
      ]
    }
  ]
}