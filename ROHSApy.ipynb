{
  "nbformat": 4,
  "nbformat_minor": 0,
  "metadata": {
    "colab": {
      "name": "ROHSApy.ipynb",
      "provenance": [],
      "collapsed_sections": [],
      "toc_visible": true,
      "include_colab_link": true
    },
    "kernelspec": {
      "name": "python3",
      "display_name": "Python 3"
    }
  },
  "cells": [
    {
      "cell_type": "markdown",
      "metadata": {
        "id": "view-in-github",
        "colab_type": "text"
      },
      "source": [
        "<a href=\"https://colab.research.google.com/github/antoinemarchal/ROHSA/blob/master/ROHSApy.ipynb\" target=\"_parent\"><img src=\"https://colab.research.google.com/assets/colab-badge.svg\" alt=\"Open In Colab\"/></a>"
      ]
    },
    {
      "cell_type": "markdown",
      "metadata": {
        "id": "KW4NYkrohfjg",
        "colab_type": "text"
      },
      "source": [
        "#Notebook ROHSA "
      ]
    },
    {
      "cell_type": "markdown",
      "metadata": {
        "id": "za0aJaSFsCdD",
        "colab_type": "text"
      },
      "source": [
        "### About this notebook\n",
        "\n",
        "This is a notebook to show you how to install and run ROHSA. It was built to run on [Google Colab](https://colab.research.google.com) but should work on many systems. This [link](https://colab.research.google.com/drive/1i5ehl1VVpe0JKxFEq0lscIo-ml5uWWtm) should find a version of this notebook launched on colab.\n",
        "\n",
        "#### Notebook Authors:\n",
        "Joshua Peek, Antoine Marchal"
      ]
    },
    {
      "cell_type": "markdown",
      "metadata": {
        "id": "nthMx8dicmus",
        "colab_type": "text"
      },
      "source": [
        "## Installing ROHSA\n",
        "[ROHSA](https://github.com/antoinemarchal/ROHSA) is a code for decomposing PPV emission cubes into Gaussians. It is written in FORTRAN90 and thus needs to be installed via make. We clone the repository from github, change to the correct directory and make."
      ]
    },
    {
      "cell_type": "markdown",
      "metadata": {
        "id": "ayR5NfXWbD9n",
        "colab_type": "text"
      },
      "source": [
        "##Model from ROHSA\n",
        "\\begin{equation}\n",
        "  \\tilde T_B\\big(v_z, \\theta(r)\\big) = \\sum_{n=1}^{N} \n",
        "  G\\big(v_z, \\theta_n(r)\\big)\n",
        "\\end{equation}\n",
        "\n",
        "with $\\theta(r) = \\big(\\theta_1(r), \\dots, \\theta_n(r)\\big)$ and where\n",
        "\n",
        "\\begin{equation}\n",
        "  G\\big(v_z, \\theta_n(r)\\big) = a_n(r) \\exp\n",
        "  \\left( - \\frac{\\big(v_z - \\mu_n(r)\\big)^2}{2 \\sigma_n(r)^2} \\right)\n",
        "\\end{equation}\n",
        "\n",
        "is parametrized by $\\theta_n = \\big(a_n, \\mu_n, \\sigma_n\\big)$ with\n",
        "$a_n \\geq 0$ being the amplitude, $\\mu_{n}$ the position, and\n",
        "$\\sigma_{n}$ the standard deviation 2D maps of the $n$-th Gaussian\n",
        "profile across the plan of sky. \n",
        "\n",
        "The residual is\n",
        "\n",
        "\\begin{equation}\n",
        "  L\\big(v_z, \\theta(r)\\big) = \\tilde T_B\\big(v_z, \\theta(r)\\big) \n",
        "  - T_B(v_z, r).\n",
        "\\end{equation}\n",
        "\n",
        "The cost function that includes the sum of the squares of the residual is\n",
        "\n",
        "\\begin{equation}\n",
        "  Q(\\theta) = \\frac{1}{2} \\, \\sum_{v_z, r} \n",
        "  \\left(\\frac{L\\big(v_z, \\theta(r)\\big)}{\\Sigma(r)}\\right)^2\n",
        "\\end{equation}\n",
        "\n",
        "where $\\Sigma$ is the standard deviation 2D map of the noise assumed\n",
        "without spatial correlation.\n",
        "\n",
        "The regularization terms are\n",
        "\n",
        "\\begin{equation}\n",
        "  R(\\theta,m) = \\frac{1}{2} \\, \\sum_{n=1}^N \\lambda_{a} \\|D a_n\\|_2^2 +\n",
        "  \\lambda_{\\mu} \\|D \\mu_n\\|_2^2 + \\lambda_{\\sigma} \\|D \\sigma_n\\|_2^2 +\n",
        "  \\lambda'_{\\sigma} \\|\\sigma_n - m_n\\|_2^2\n",
        "\\end{equation}\n",
        "\n",
        "with $m = (m_1, \\dots, m_N)$ and $a_n \\geq 0$, $\\forall \\, n \\in [1, \\dots, N]$ and where D is a matrix performing the 2D convolution using the kernel d and $\\lambda_a$, $\\lambda_{\\mu}$, and $\\lambda_{\\sigma}$ are hyper-parameters than tune the balance between the different terms.\n",
        "\n",
        "\\begin{equation}\n",
        "  d = \\begin{bmatrix}\n",
        "  0 & -1 & 0 \\\\\n",
        "  -1 & 4 & -1 \\\\\n",
        "  0 & -1 & 0 \\\\\n",
        "  \\end{bmatrix}\n",
        "\\end{equation}\n",
        "\n",
        "The full cost function is then\n",
        "\n",
        "\\begin{align}\n",
        "  J(\\theta, m) = Q(\\theta) + R(\\theta,m).\n",
        "\\end{align}\n",
        "\n",
        "Finally, the minimizer is \n",
        "\n",
        "\\begin{equation}\n",
        "[\\hat \\theta, \\hat m] = \\underset{\\theta,m}{\\text{argmin}}\\ J(\\theta,m),\n",
        "\\ \\text{wrt. } a_n \\geq 0,\\ \\forall \\, n \\in [1, \\dots, N]\n",
        "\\end{equation}"
      ]
    },
    {
      "cell_type": "code",
      "metadata": {
        "id": "v2pCG4EKp5Ny",
        "colab_type": "code",
        "outputId": "3faa3502-3690-4d55-e286-2f2d365a2106",
        "colab": {
          "base_uri": "https://localhost:8080/",
          "height": 436
        }
      },
      "source": [
        "!git clone https://github.com/antoinemarchal/ROHSA.git ROHSA\n",
        "import os\n",
        "os.chdir('ROHSA/src')\n",
        "!make\n",
        "os.chdir('../../')"
      ],
      "execution_count": 0,
      "outputs": [
        {
          "output_type": "stream",
          "text": [
            "Cloning into 'ROHSA'...\n",
            "remote: Enumerating objects: 261, done.\u001b[K\n",
            "remote: Counting objects: 100% (261/261), done.\u001b[K\n",
            "remote: Compressing objects: 100% (179/179), done.\u001b[K\n",
            "remote: Total 1679 (delta 199), reused 136 (delta 81), pack-reused 1418\n",
            "Receiving objects: 100% (1679/1679), 4.96 MiB | 13.13 MiB/s, done.\n",
            "Resolving deltas: 100% (1163/1163), done.\n",
            "gfortran -O2 -I/usr/local/include -ffixed-line-length-none  -c blas.f\n",
            "gfortran -O2 -I/usr/local/include -ffixed-line-length-none  -c lbfgsb.f\n",
            "gfortran -O2 -I/usr/local/include -ffixed-line-length-none  -c linpack.f\n",
            "gfortran -O2 -I/usr/local/include -ffixed-line-length-none  -c timer.f\n",
            "gfortran -O2 -I/usr/local/include -ffixed-line-length-none  -c mod_constants.f90\n",
            "gfortran -O2 -I/usr/local/include -ffixed-line-length-none  -c mod_convert.f90\n",
            "gfortran -O2 -I/usr/local/include -ffixed-line-length-none  -c mod_inout.f90\n",
            "gfortran -O2 -I/usr/local/include -ffixed-line-length-none  -c mod_array.f90\n",
            "gfortran -O2 -I/usr/local/include -ffixed-line-length-none  -c mod_optimize.f90\n",
            "gfortran -O2 -I/usr/local/include -ffixed-line-length-none  -c mod_optimize_lym.f90\n",
            "gfortran -O2 -I/usr/local/include -ffixed-line-length-none  -c mod_minimize.f90\n",
            "gfortran -O2 -I/usr/local/include -ffixed-line-length-none  -c mod_functions.f90\n",
            "gfortran -O2 -I/usr/local/include -ffixed-line-length-none  -c mod_start.f90\n",
            "gfortran -O2 -I/usr/local/include -ffixed-line-length-none  -c mod_rohsa.f90\n",
            "gfortran -O2 -I/usr/local/include -ffixed-line-length-none  -c main.f90\n",
            "gfortran blas.o lbfgsb.o linpack.o timer.o mod_constants.o mod_convert.o mod_inout.o mod_array.o mod_optimize.o mod_optimize_lym.o mod_minimize.o mod_functions.o mod_start.o mod_rohsa.o main.o -lm -g -O2  -o ROHSA\n"
          ],
          "name": "stdout"
        }
      ]
    },
    {
      "cell_type": "markdown",
      "metadata": {
        "id": "WpejrNVkdL6P",
        "colab_type": "text"
      },
      "source": [
        "## Getting Data\n",
        "Our example data comes from the GHIGLS Survey from Martin et al. 2015.  "
      ]
    },
    {
      "cell_type": "code",
      "metadata": {
        "id": "vVsHkW-RxXje",
        "colab_type": "code",
        "outputId": "fa6a6040-46c1-490a-8fa4-dd6fb7fae5fb",
        "colab": {
          "base_uri": "https://localhost:8080/",
          "height": 208
        }
      },
      "source": [
        "!wget https://www.cita.utoronto.ca/GHIGLS/FITS/GHIGLS_DFN_Tb.fits"
      ],
      "execution_count": 0,
      "outputs": [
        {
          "output_type": "stream",
          "text": [
            "--2019-11-13 17:32:48--  https://www.cita.utoronto.ca/GHIGLS/FITS/GHIGLS_DFN_Tb.fits\n",
            "Resolving www.cita.utoronto.ca (www.cita.utoronto.ca)... 128.100.76.44\n",
            "Connecting to www.cita.utoronto.ca (www.cita.utoronto.ca)|128.100.76.44|:443... connected.\n",
            "HTTP request sent, awaiting response... 200 OK\n",
            "Length: 2485440 (2.4M) [image/fits]\n",
            "Saving to: ‘GHIGLS_DFN_Tb.fits’\n",
            "\n",
            "GHIGLS_DFN_Tb.fits  100%[===================>]   2.37M  2.56MB/s    in 0.9s    \n",
            "\n",
            "2019-11-13 17:32:49 (2.56 MB/s) - ‘GHIGLS_DFN_Tb.fits’ saved [2485440/2485440]\n",
            "\n"
          ],
          "name": "stdout"
        }
      ]
    },
    {
      "cell_type": "markdown",
      "metadata": {
        "id": "1ZtdAcs6vFfJ",
        "colab_type": "text"
      },
      "source": [
        "## Getting started with ROHSApy"
      ]
    },
    {
      "cell_type": "markdown",
      "metadata": {
        "id": "B3H2QE-V5gc4",
        "colab_type": "text"
      },
      "source": [
        "### Installation"
      ]
    },
    {
      "cell_type": "code",
      "metadata": {
        "id": "CPyUbz3bvnGb",
        "colab_type": "code",
        "outputId": "af080a84-2122-43af-e0b9-786ec7c93d20",
        "colab": {
          "base_uri": "https://localhost:8080/",
          "height": 330
        }
      },
      "source": [
        "!pip install ROHSApy"
      ],
      "execution_count": 0,
      "outputs": [
        {
          "output_type": "stream",
          "text": [
            "Collecting ROHSApy\n",
            "  Downloading https://files.pythonhosted.org/packages/de/85/1e838471d0a6ddd522ae4f93c8f1816fc4103d09d167d33cc0e809cf06de/ROHSApy-0.1.9.tar.gz\n",
            "Requirement already satisfied: numpy in /usr/local/lib/python3.6/dist-packages (from ROHSApy) (1.17.4)\n",
            "Requirement already satisfied: matplotlib in /usr/local/lib/python3.6/dist-packages (from ROHSApy) (3.1.1)\n",
            "Requirement already satisfied: astropy in /usr/local/lib/python3.6/dist-packages (from ROHSApy) (3.0.5)\n",
            "Requirement already satisfied: pyparsing!=2.0.4,!=2.1.2,!=2.1.6,>=2.0.1 in /usr/local/lib/python3.6/dist-packages (from matplotlib->ROHSApy) (2.4.5)\n",
            "Requirement already satisfied: kiwisolver>=1.0.1 in /usr/local/lib/python3.6/dist-packages (from matplotlib->ROHSApy) (1.1.0)\n",
            "Requirement already satisfied: cycler>=0.10 in /usr/local/lib/python3.6/dist-packages (from matplotlib->ROHSApy) (0.10.0)\n",
            "Requirement already satisfied: python-dateutil>=2.1 in /usr/local/lib/python3.6/dist-packages (from matplotlib->ROHSApy) (2.6.1)\n",
            "Requirement already satisfied: setuptools in /usr/local/lib/python3.6/dist-packages (from kiwisolver>=1.0.1->matplotlib->ROHSApy) (41.4.0)\n",
            "Requirement already satisfied: six in /usr/local/lib/python3.6/dist-packages (from cycler>=0.10->matplotlib->ROHSApy) (1.12.0)\n",
            "Building wheels for collected packages: ROHSApy\n",
            "  Building wheel for ROHSApy (setup.py) ... \u001b[?25l\u001b[?25hdone\n",
            "  Created wheel for ROHSApy: filename=ROHSApy-0.1.9-cp36-none-any.whl size=16748 sha256=180603fa49ef1c5b2ccf40738c0fea931685b9439fd5ca352f6a1f1c12416562\n",
            "  Stored in directory: /root/.cache/pip/wheels/cc/85/a7/6f76b6ab7d1e85462ea3e503ebbcbc6b547362d2bdd490f536\n",
            "Successfully built ROHSApy\n",
            "Installing collected packages: ROHSApy\n",
            "Successfully installed ROHSApy-0.1.9\n"
          ],
          "name": "stdout"
        }
      ]
    },
    {
      "cell_type": "markdown",
      "metadata": {
        "id": "qvBTsYqiU9Lw",
        "colab_type": "text"
      },
      "source": [
        " ### Load data + Visualizing the integrated column density map\n"
      ]
    },
    {
      "cell_type": "code",
      "metadata": {
        "id": "_SaDf5CDVj_X",
        "colab_type": "code",
        "colab": {}
      },
      "source": [
        "import numpy as np\n",
        "from astropy.io import fits\n",
        "import matplotlib.pyplot as plt\n",
        "from ROHSApy import ROHSA\n",
        "\n",
        "fitsname = \"GHIGLS_DFN_Tb.fits\"\n",
        "hdu = fits.open(fitsname)\n",
        "hdr = hdu[0].header\n",
        "cube = hdu[0].data[0][150:350,:32,:32]"
      ],
      "execution_count": 0,
      "outputs": []
    },
    {
      "cell_type": "code",
      "metadata": {
        "id": "slWs8OPNU0so",
        "colab_type": "code",
        "outputId": "286eb5d0-914a-42af-cc20-4f4f91721436",
        "colab": {
          "base_uri": "https://localhost:8080/",
          "height": 282
        }
      },
      "source": [
        "plt.figure()\n",
        "plt.imshow(np.sum(cube,0), origin=\"lower\", cmap=\"inferno\")"
      ],
      "execution_count": 0,
      "outputs": [
        {
          "output_type": "execute_result",
          "data": {
            "text/plain": [
              "<matplotlib.image.AxesImage at 0x7fbed5aea9e8>"
            ]
          },
          "metadata": {
            "tags": []
          },
          "execution_count": 5
        },
        {
          "output_type": "display_data",
          "data": {
            "image/png": "[encoded data removed]",
            "text/plain": [
              "<Figure size 432x288 with 1 Axes>"
            ]
          },
          "metadata": {
            "tags": []
          }
        }
      ]
    },
    {
      "cell_type": "markdown",
      "metadata": {
        "id": "Rkt5KUPb5kUo",
        "colab_type": "text"
      },
      "source": [
        "### Generate files for ROHSA with your data\n",
        "Here we run cube2dat that converts the fits file to a dat file readable by FORTRAN and generate a parameters file to run the code."
      ]
    },
    {
      "cell_type": "code",
      "metadata": {
        "id": "N5wfFqLEvLK5",
        "colab_type": "code",
        "outputId": "5f1c786d-3be6-4102-e9ac-8abf28c8cdc3",
        "colab": {
          "base_uri": "https://localhost:8080/",
          "height": 52
        }
      },
      "source": [
        "filename = \"GHIGLS_DFN_Tb.dat\" #@param\n",
        "fileout = \"GHIGLS_DFN_Tb_gauss_run_0.dat\" #@param\n",
        "filename_noise = ''\n",
        "n_gauss = 3           #@param {type:\"slider\", min:1, max:12, step:1}                                                                                                                                                                                                                             \n",
        "lambda_amp = 100 #@param {type:\"slider\", min:0, max:1000, step:1}\n",
        "lambda_mu = 100       #@param {type:\"slider\", min:0, max:1000, step:1}\n",
        "lambda_sig = 100      #@param {type:\"slider\", min:0, max:1000, step:1}\n",
        "lambda_var_amp = 0.                                                                                                                                                                                                                                                           \n",
        "lambda_var_mu = 0.                                                                                                                                                                                                                                                        \n",
        "lambda_var_sig = 100.   #@param {type:\"slider\", min:0, max:10000, step:1}                                                                                                                                                                                                                                                            \n",
        "amp_fact_init = 0.66  # times max amplitude of additional Gaussian                                                                                                                                                                                                                                                          \n",
        "sig_init = 4.         # dispersion of additional Gaussian                                                                                                                                                                                                                                                                   \n",
        "init_option = 'mean'  # init ROHSA with the mean or the std spectrum                                                                                                                                                                                                                                                      \n",
        "maxiter_init = 15000  # max iteration for L-BFGS-B alogorithm init mean                                                                                                                                                                                                                                        \n",
        "maxiter = 400         #@param {type:\"slider\", min:1, max:800, step:1}                                                                                                                                                                                                                                                         \n",
        "m = 10                # number of corrections used in the limited memory matrix                                                                                                                                                                                                                               \n",
        "noise = \".false.\"     # if false - STD map computed by ROHSA with lstd and ustd                                                                                                                                                                                                           \n",
        "regul = \".true.\"      # if true - activate regulation                                                                                                                                                                                                                                                                 \n",
        "descent = \".true.\"    #@param [\".true.\", \".false.\"]                                                                                                                                                                                                                       \n",
        "lstd = 1              #@param {type:\"slider\", min:1, max:400, step:1}                                                                                                                                                                                                                \n",
        "ustd = 20             #@param {type:\"slider\", min:1, max:400, step:1}                                                                                                                                                                                                                 \n",
        "iprint = -1           #@param [\"-1\", \"0\", \"1\"]                                                                                                                                                                                                                                                                                      \n",
        "iprint_init = -1      # print option init                                              \n",
        "save_grid = \".false.\" #@param [\".true.\", \".false.\"] \n",
        "\n",
        "core = ROHSA(cube)            \n",
        "core.cube2dat(filename=filename)\n",
        "core.gen_parameters(filename=filename, \n",
        "                    fileout=fileout,  \n",
        "                    n_gauss=n_gauss,\n",
        "                    lambda_amp=lambda_amp,\n",
        "                    lambda_mu=lambda_mu,\n",
        "                    lambda_sig=lambda_sig,\n",
        "                    lambda_var_sig=lambda_var_sig,\n",
        "                    maxiter=maxiter,\n",
        "                    descent=descent,\n",
        "                    lstd=lstd,\n",
        "                    ustd=ustd,\n",
        "                    iprint=iprint,\n",
        "                    save_grid=save_grid)\n"
      ],
      "execution_count": 0,
      "outputs": [
        {
          "output_type": "stream",
          "text": [
            "Generate GHIGLS_DFN_Tb.dat file readable by fortran\n",
            "Generate parameters.txt file\n"
          ],
          "name": "stdout"
        }
      ]
    },
    {
      "cell_type": "markdown",
      "metadata": {
        "id": "UR8mvb8_zpSq",
        "colab_type": "text"
      },
      "source": [
        "### Running ROHSA\n",
        "Here we run ROHSA on the data. This is invoking the parameter file parameters.txt. \n",
        "Note : If you want to use core.run() method, you have to add your executable in your own .bashrc - \n",
        "Here we use directly ROHSA from src"
      ]
    },
    {
      "cell_type": "code",
      "metadata": {
        "id": "8j8KvTWb0kvM",
        "colab_type": "code",
        "outputId": "95f690fa-33dd-40a7-8298-7965f6bc7cec",
        "colab": {
          "base_uri": "https://localhost:8080/",
          "height": 34
        }
      },
      "source": [
        "%%shell \n",
        "nohup ./ROHSA/src/ROHSA parameters.txt"
      ],
      "execution_count": 0,
      "outputs": [
        {
          "output_type": "stream",
          "text": [
            "nohup: ignoring input and appending output to 'nohup.out'\n"
          ],
          "name": "stdout"
        },
        {
          "output_type": "execute_result",
          "data": {
            "text/plain": [
              ""
            ]
          },
          "metadata": {
            "tags": []
          },
          "execution_count": 7
        }
      ]
    },
    {
      "cell_type": "markdown",
      "metadata": {
        "id": "FGjMub-kcCBp",
        "colab_type": "text"
      },
      "source": [
        "### Reading the result of ROHSA\n",
        "read_gaussian() method allows you to read the output file generated by ROHSA. The structure of the cube is the following : \n",
        "\n",
        "* dim 1 = Gaussian parameters / Ordering : amplitude - position - dispersion\n",
        "\n",
        "* dim 2 and dim 3 = spatial axis\n",
        "\n",
        "Note that position and dispersion are in pixel unit\n"
      ]
    },
    {
      "cell_type": "code",
      "metadata": {
        "id": "pu_SeqYl-B1O",
        "colab_type": "code",
        "outputId": "15244da8-6f9a-406a-c1c4-0bb795fb6f9d",
        "colab": {
          "base_uri": "https://localhost:8080/",
          "height": 52
        }
      },
      "source": [
        "gaussian = core.read_gaussian(\"GHIGLS_DFN_Tb_gauss_run_0.dat\")\n",
        "print(\"dim cube = \" + str(gaussian.shape))\n",
        "\n",
        "model = core.return_result_cube(gaussian=gaussian)\n",
        "\n",
        "amplitude = gaussian[0::3]\n",
        "position = gaussian[1::3]\n",
        "dispersion = gaussian[2::3]\n",
        "\n",
        "integral = amplitude * dispersion"
      ],
      "execution_count": 0,
      "outputs": [
        {
          "output_type": "stream",
          "text": [
            "Opening data file\n",
            "dim cube = (12, 32, 32)\n"
          ],
          "name": "stdout"
        }
      ]
    },
    {
      "cell_type": "markdown",
      "metadata": {
        "id": "4dO8PDOpWLgH",
        "colab_type": "text"
      },
      "source": [
        "### Plot model of the integrated column density map"
      ]
    },
    {
      "cell_type": "code",
      "metadata": {
        "id": "DzifFbOAWSVP",
        "colab_type": "code",
        "outputId": "b7404049-3c48-4474-9ab1-ad01f9773aa9",
        "colab": {
          "base_uri": "https://localhost:8080/",
          "height": 320
        }
      },
      "source": [
        "plt.figure(figsize=(12,5))\n",
        "plt.subplot(1,3,1)\n",
        "plt.imshow(np.sum(cube,0), origin=\"lower\", cmap=\"inferno\")\n",
        "plt.subplot(1,3,2)\n",
        "plt.imshow(np.sum(model,0), origin=\"lower\", cmap=\"inferno\")\n",
        "plt.subplot(1,3,3)\n",
        "plt.imshow((np.sum(model,0)-np.sum(cube,0))/np.sum(model,0), origin=\"lower\", cmap=\"inferno\")\n",
        "plt.colorbar()\n"
      ],
      "execution_count": 0,
      "outputs": [
        {
          "output_type": "execute_result",
          "data": {
            "text/plain": [
              "<matplotlib.colorbar.Colorbar at 0x7fbed5548ef0>"
            ]
          },
          "metadata": {
            "tags": []
          },
          "execution_count": 9
        },
        {
          "output_type": "display_data",
          "data": {
            "image/png": "[encoded data removed]",
            "text/plain": [
              "<Figure size 864x360 with 4 Axes>"
            ]
          },
          "metadata": {
            "tags": []
          }
        }
      ]
    },
    {
      "cell_type": "markdown",
      "metadata": {
        "id": "O7S9qGITSWme",
        "colab_type": "text"
      },
      "source": [
        "### Plot the first Gaussian component\n",
        "Here we plot the amplitude, the position and the dispersion of the first Gaussian + a random spectum of the cube."
      ]
    },
    {
      "cell_type": "code",
      "metadata": {
        "id": "2OMMQBS6NK2a",
        "colab_type": "code",
        "outputId": "95910cf0-370c-450b-8b9b-f8500a210ebc",
        "colab": {
          "base_uri": "https://localhost:8080/",
          "height": 262
        }
      },
      "source": [
        "plt.figure(figsize=(12,5))\n",
        "plt.subplot(1,3,1)\n",
        "plt.imshow(amplitude[0], origin=\"lower\", cmap=\"inferno\")\n",
        "plt.subplot(1,3,2)\n",
        "plt.imshow(position[0], origin=\"lower\", cmap=\"coolwarm\")\n",
        "plt.subplot(1,3,3)\n",
        "plt.imshow(dispersion[0], origin=\"lower\", cmap=\"cubehelix\")\n"
      ],
      "execution_count": 0,
      "outputs": [
        {
          "output_type": "execute_result",
          "data": {
            "text/plain": [
              "<matplotlib.image.AxesImage at 0x7fbed55c8908>"
            ]
          },
          "metadata": {
            "tags": []
          },
          "execution_count": 10
        },
        {
          "output_type": "display_data",
          "data": {
            "image/png": "[encoded data removed]",
            "text/plain": [
              "<Figure size 864x360 with 3 Axes>"
            ]
          },
          "metadata": {
            "tags": []
          }
        }
      ]
    },
    {
      "cell_type": "code",
      "metadata": {
        "id": "q4fxBYOHw928",
        "colab_type": "code",
        "outputId": "ce7ed6b5-447a-473b-d21c-6fc795e9d193",
        "colab": {
          "base_uri": "https://localhost:8080/",
          "height": 405
        }
      },
      "source": [
        "core.plot_spect(gaussian,12,12)"
      ],
      "execution_count": 0,
      "outputs": [
        {
          "output_type": "execute_result",
          "data": {
            "text/plain": [
              "0"
            ]
          },
          "metadata": {
            "tags": []
          },
          "execution_count": 11
        },
        {
          "output_type": "display_data",
          "data": {
            "image/png": "[encoded data removed]",
            "text/plain": [
              "<Figure size 576x432 with 1 Axes>"
            ]
          },
          "metadata": {
            "tags": []
          }
        }
      ]
    },
    {
      "cell_type": "markdown",
      "metadata": {
        "id": "Xh8_PwKThR2I",
        "colab_type": "text"
      },
      "source": [
        "###Enjoy ! And please contact me for any question related to ROHSA"
      ]
    }
  ]
}