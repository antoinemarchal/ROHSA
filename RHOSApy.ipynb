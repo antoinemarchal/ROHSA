{
  "nbformat": 4,
  "nbformat_minor": 0,
  "metadata": {
    "colab": {
      "name": "RHOSApy.ipynb",
      "version": "0.3.2",
      "provenance": [],
      "collapsed_sections": [
        "pC2NzGUhkz3H"
      ],
      "toc_visible": true,
      "include_colab_link": true
    },
    "kernelspec": {
      "name": "python3",
      "display_name": "Python 3"
    }
  },
  "cells": [
    {
      "cell_type": "markdown",
      "metadata": {
        "id": "view-in-github",
        "colab_type": "text"
      },
      "source": [
        "[View in Colaboratory](https://colab.research.google.com/github/antoinemarchal/ROHSA/blob/master/RHOSApy.ipynb)"
      ]
    },
    {
      "metadata": {
        "id": "za0aJaSFsCdD",
        "colab_type": "text"
      },
      "cell_type": "markdown",
      "source": [
        "### About this notebook\n",
        "\n",
        "This is a notebook to show you how to install and run ROHSA. It was built to run on [Google Colab](https://colab.research.google.com) but should work on many systems. This [link](https://colab.research.google.com/drive/1i5ehl1VVpe0JKxFEq0lscIo-ml5uWWtm) should find a version of this notebook launched on colab.\n",
        "\n",
        "#### Notebook Authors:\n",
        "Joshua Peek, Antoine Marchal"
      ]
    },
    {
      "metadata": {
        "id": "nthMx8dicmus",
        "colab_type": "text"
      },
      "cell_type": "markdown",
      "source": [
        "## Installing RHOSA\n",
        "[ROHSA](https://antoinemarchal.github.io/ROHSA/index.html/) is a code for decomposing PPV emission cubes into Gaussians. It is written in FORTRAN90 and thus needs to be installed via make. We clone the repository from github, change to the correct directory and make."
      ]
    },
    {
      "metadata": {
        "id": "v2pCG4EKp5Ny",
        "colab_type": "code",
        "colab": {
          "base_uri": "https://localhost:8080/",
          "height": 465
        },
        "outputId": "3d6cbc2e-3e90-482c-8df3-d198df44e6d8"
      },
      "cell_type": "code",
      "source": [
        "!git clone https://github.com/antoinemarchal/ROHSA.git ROHSA\n",
        "import os\n",
        "os.chdir('ROHSA/src')\n",
        "!make\n",
        "os.chdir('../../')"
      ],
      "execution_count": 1,
      "outputs": [
        {
          "output_type": "stream",
          "text": [
            "Cloning into 'ROHSA'...\n",
            "remote: Enumerating objects: 341, done.\u001b[K\n",
            "remote: Counting objects: 100% (341/341), done.\u001b[K\n",
            "remote: Compressing objects: 100% (252/252), done.\u001b[K\n",
            "remote: Total 1082 (delta 204), reused 184 (delta 63), pack-reused 741\u001b[K\n",
            "Receiving objects: 100% (1082/1082), 4.94 MiB | 26.90 MiB/s, done.\n",
            "Resolving deltas: 100% (711/711), done.\n",
            "gfortran -O -Wall -fbounds-check -g -Wno-uninitialized -I/usr/local/include -c blas.f\n",
            "gfortran -O -Wall -fbounds-check -g -Wno-uninitialized -I/usr/local/include -c lbfgsb.f\n",
            "gfortran -O -Wall -fbounds-check -g -Wno-uninitialized -I/usr/local/include -c linpack.f\n",
            "gfortran -O -Wall -fbounds-check -g -Wno-uninitialized -I/usr/local/include -c timer.f\n",
            "gfortran -O -Wall -fbounds-check -g -Wno-uninitialized -I/usr/local/include -c mod_constants.f90\n",
            "gfortran -O -Wall -fbounds-check -g -Wno-uninitialized -I/usr/local/include -c mod_convert.f90\n",
            "gfortran -O -Wall -fbounds-check -g -Wno-uninitialized -I/usr/local/include -c mod_inout.f90\n",
            "gfortran -O -Wall -fbounds-check -g -Wno-uninitialized -I/usr/local/include -c mod_array.f90\n",
            "gfortran -O -Wall -fbounds-check -g -Wno-uninitialized -I/usr/local/include -c mod_optimize.f90\n",
            "gfortran -O -Wall -fbounds-check -g -Wno-uninitialized -I/usr/local/include -c mod_functions.f90\n",
            "gfortran -O -Wall -fbounds-check -g -Wno-uninitialized -I/usr/local/include -c mod_start.f90\n",
            "gfortran -O -Wall -fbounds-check -g -Wno-uninitialized -I/usr/local/include -c mod_rohsa.f90\n",
            "gfortran -O -Wall -fbounds-check -g -Wno-uninitialized -I/usr/local/include -c main.f90\n",
            "gfortran blas.o lbfgsb.o linpack.o timer.o mod_constants.o mod_convert.o mod_inout.o mod_array.o mod_optimize.o mod_functions.o mod_start.o mod_rohsa.o main.o -llapack -lm -g -O2  -o ROHSA\n"
          ],
          "name": "stdout"
        }
      ]
    },
    {
      "metadata": {
        "id": "WpejrNVkdL6P",
        "colab_type": "text"
      },
      "cell_type": "markdown",
      "source": [
        "## Getting Data\n",
        "Our example data comes from the GHIGLS Survey from Martin et al. 2015.  "
      ]
    },
    {
      "metadata": {
        "id": "vVsHkW-RxXje",
        "colab_type": "code",
        "colab": {
          "base_uri": "https://localhost:8080/",
          "height": 252
        },
        "outputId": "f48cb6e1-97ad-4637-85a3-1d25b906c2be"
      },
      "cell_type": "code",
      "source": [
        "!wget https://www.cita.utoronto.ca/GHIGLS/FITS/GHIGLS_DFN_Tb.fits\n",
        "!ls"
      ],
      "execution_count": 2,
      "outputs": [
        {
          "output_type": "stream",
          "text": [
            "--2018-10-15 07:11:44--  https://www.cita.utoronto.ca/GHIGLS/FITS/GHIGLS_DFN_Tb.fits\n",
            "Resolving www.cita.utoronto.ca (www.cita.utoronto.ca)... 128.100.76.44\n",
            "Connecting to www.cita.utoronto.ca (www.cita.utoronto.ca)|128.100.76.44|:443... connected.\n",
            "HTTP request sent, awaiting response... 200 OK\n",
            "Length: 2485440 (2.4M) [image/fits]\n",
            "Saving to: ‘GHIGLS_DFN_Tb.fits’\n",
            "\n",
            "GHIGLS_DFN_Tb.fits  100%[===================>]   2.37M  3.20MB/s    in 0.7s    \n",
            "\n",
            "2018-10-15 07:11:46 (3.20 MB/s) - ‘GHIGLS_DFN_Tb.fits’ saved [2485440/2485440]\n",
            "\n",
            "GHIGLS_DFN_Tb.fits  ROHSA  sample_data\n"
          ],
          "name": "stdout"
        }
      ]
    },
    {
      "metadata": {
        "id": "1ZtdAcs6vFfJ",
        "colab_type": "text"
      },
      "cell_type": "markdown",
      "source": [
        "## Getting started with ROHSApy"
      ]
    },
    {
      "metadata": {
        "id": "B3H2QE-V5gc4",
        "colab_type": "text"
      },
      "cell_type": "markdown",
      "source": [
        "### Installation"
      ]
    },
    {
      "metadata": {
        "id": "CPyUbz3bvnGb",
        "colab_type": "code",
        "colab": {
          "base_uri": "https://localhost:8080/",
          "height": 352
        },
        "outputId": "0eca9081-77f7-4579-a068-64004c3f1625"
      },
      "cell_type": "code",
      "source": [
        "!pip install ROHSApy"
      ],
      "execution_count": 3,
      "outputs": [
        {
          "output_type": "stream",
          "text": [
            "Collecting ROHSApy\n",
            "  Downloading https://files.pythonhosted.org/packages/2f/16/df4efc3d9b812749fedfa63c86b7eec67002190fc431ba3f9d74d823d252/ROHSApy-0.1.3-py3-none-any.whl\n",
            "Requirement already satisfied: numpy in /usr/local/lib/python3.6/dist-packages (from ROHSApy) (1.14.6)\n",
            "Collecting astropy (from ROHSApy)\n",
            "\u001b[?25l  Downloading https://files.pythonhosted.org/packages/9a/dd/379071efa94c223c596594a429ab41b8e1bb7052e40c733842a9f28674c3/astropy-3.0.4-cp36-cp36m-manylinux1_x86_64.whl (6.0MB)\n",
            "\u001b[K    100% |████████████████████████████████| 6.0MB 4.4MB/s \n",
            "\u001b[?25hRequirement already satisfied: matplotlib in /usr/local/lib/python3.6/dist-packages (from ROHSApy) (2.1.2)\n",
            "Requirement already satisfied: pytz in /usr/local/lib/python3.6/dist-packages (from matplotlib->ROHSApy) (2018.5)\n",
            "Requirement already satisfied: pyparsing!=2.0.4,!=2.1.2,!=2.1.6,>=2.0.1 in /usr/local/lib/python3.6/dist-packages (from matplotlib->ROHSApy) (2.2.2)\n",
            "Requirement already satisfied: cycler>=0.10 in /usr/local/lib/python3.6/dist-packages (from matplotlib->ROHSApy) (0.10.0)\n",
            "Requirement already satisfied: python-dateutil>=2.1 in /usr/local/lib/python3.6/dist-packages (from matplotlib->ROHSApy) (2.5.3)\n",
            "Requirement already satisfied: six>=1.10 in /usr/local/lib/python3.6/dist-packages (from matplotlib->ROHSApy) (1.11.0)\n",
            "Installing collected packages: astropy, ROHSApy\n",
            "Successfully installed ROHSApy-0.1.3 astropy-3.0.4\n"
          ],
          "name": "stdout"
        }
      ]
    },
    {
      "metadata": {
        "id": "Rkt5KUPb5kUo",
        "colab_type": "text"
      },
      "cell_type": "markdown",
      "source": [
        "### Generate files for ROHSA with your data\n",
        "Here we run cube2dat that converts the fits file to a dat file readable by FORTRAN and generate a parameters file to run the code."
      ]
    },
    {
      "metadata": {
        "id": "N5wfFqLEvLK5",
        "colab_type": "code",
        "colab": {
          "base_uri": "https://localhost:8080/",
          "height": 51
        },
        "outputId": "4ff9e11b-2f9b-49ba-c1b2-2feda92d4ab1"
      },
      "cell_type": "code",
      "source": [
        "import numpy as np\n",
        "from astropy.io import fits\n",
        "import matplotlib.pyplot as plt\n",
        "from ROHSApy import ROHSA\n",
        "\n",
        "fitsname = \"GHIGLS_DFN_Tb.fits\"\n",
        "hdu = fits.open(fitsname)\n",
        "hdr = hdu[0].header\n",
        "cube = hdu[0].data[0][:,:32,:32]\n",
        "\n",
        "filename = \"GHIGLS_DFN_Tb.dat\" #@param\n",
        "fileout = \"GHIGLS_DFN_Tb_gauss_run_0.dat\" #@param\n",
        "filename_noise = ''\n",
        "n_gauss = 3           #@param {type:\"slider\", min:1, max:12, step:1}                                                                                                                                                                                                                             \n",
        "lambda_amp = 100      #@param {type:\"slider\", min:0, max:10000, step:1}                                                                                                                                                                                                                                                                     \n",
        "lambda_mu = 100       #@param {type:\"slider\", min:0, max:10000, step:1}                                                                                                                                                                                                                                                          \n",
        "lambda_sig = 100      #@param {type:\"slider\", min:0, max:10000, step:1}                                                                                                                                                                                                                                                                    \n",
        "lambda_var_amp = 0.                                                                                                                                                                                                                                                           \n",
        "lambda_var_mu = 0.                                                                                                                                                                                                                                                        \n",
        "lambda_var_sig = 100. #@param {type:\"slider\", min:0, max:10000, step:1}                                                                                                                                                                                                                                                            \n",
        "amp_fact_init = 0.66  # times max amplitude of additional Gaussian                                                                                                                                                                                                                                                          \n",
        "sig_init = 4.         # dispersion of additional Gaussian                                                                                                                                                                                                                                                                   \n",
        "init_option = 'mean'  # init ROHSA with the mean or the std spectrum                                                                                                                                                                                                                                                      \n",
        "maxiter_init = 15000  # max iteration for L-BFGS-B alogorithm init mean                                                                                                                                                                                                                                        \n",
        "maxiter = 400         #@param {type:\"slider\", min:1, max:800, step:1}                                                                                                                                                                                                                                                         \n",
        "m = 10                # number of corrections used in the limited memory matrix                                                                                                                                                                                                                               \n",
        "noise = \".false.\"     # if false - STD map computed by ROHSA with lstd and ustd                                                                                                                                                                                                           \n",
        "regul = \".true.\"      # if true - activate regulation                                                                                                                                                                                                                                                                 \n",
        "descent = \".true.\"    #@param [\".true.\", \".false.\"]                                                                                                                                                                                                                       \n",
        "lstd = 1              #@param {type:\"slider\", min:1, max:400, step:1}                                                                                                                                                                                                                \n",
        "ustd = 20             #@param {type:\"slider\", min:1, max:400, step:1}                                                                                                                                                                                                                 \n",
        "iprint = -1           #@param [\"-1\", \"0\", \"1\"]                                                                                                                                                                                                                                                                                      \n",
        "iprint_init = -1      # print option init                                              \n",
        "save_grid = \".false.\" #@param [\".true.\", \".false.\"] \n",
        "\n",
        "core = ROHSA(cube)            \n",
        "core.cube2dat(filename=filename)\n",
        "core.gen_parameters(filename=filename, \n",
        "                    fileout=fileout,  \n",
        "                    n_gauss=n_gauss,\n",
        "                    lambda_amp=lambda_amp,\n",
        "                    lambda_mu=lambda_mu,\n",
        "                    lambda_sig=lambda_sig,\n",
        "                    lambda_var_sig=lambda_var_sig,\n",
        "                    maxiter=maxiter,\n",
        "                    descent=descent,\n",
        "                    lstd=lstd,\n",
        "                    ustd=ustd,\n",
        "                    iprint=iprint,\n",
        "                    save_grid=save_grid)"
      ],
      "execution_count": 4,
      "outputs": [
        {
          "output_type": "stream",
          "text": [
            "Generate GHIGLS_DFN_Tb.dat file\n",
            "Generate parameters.dat file\n"
          ],
          "name": "stdout"
        }
      ]
    },
    {
      "metadata": {
        "id": "UR8mvb8_zpSq",
        "colab_type": "text"
      },
      "cell_type": "markdown",
      "source": [
        "### Running ROHSA\n",
        "Here we run ROHSA on the data. This is invoking the parameter file parameters.txt. \n",
        "Note : If you want to use core.run() method, you have to add your executable in your own .bashrc - \n",
        "Here we use directly ROHSA from src"
      ]
    },
    {
      "metadata": {
        "id": "8j8KvTWb0kvM",
        "colab_type": "code",
        "colab": {
          "base_uri": "https://localhost:8080/",
          "height": 1428
        },
        "outputId": "9ff52b25-f285-4f88-94fa-8ad54964646b"
      },
      "cell_type": "code",
      "source": [
        "!./ROHSA/src/ROHSA parameters.txt"
      ],
      "execution_count": 5,
      "outputs": [
        {
          "output_type": "stream",
          "text": [
            " \n",
            " opening file and reading data\n",
            " -------------------------------------------------------------------------\n",
            "14 October 2018   6:19:01.846 PM\n",
            " \n",
            "   ____     ___    _   _   ____       _    \n",
            "  |  _ \\   / _ \\  | | | | / ___|     / \\   \n",
            "  | |_) | | | | | | |_| | \\___ \\    / _ \\  \n",
            "  |  _ <  | |_| | |  _  |  ___) |  / ___ \\ \n",
            "  |_| \\_\\  \\___/  |_| |_| |____/  /_/   \\_\\ \n",
            " \n",
            "  Version 1.2.1\n",
            "  ROHSA is released as open source code\n",
            "  Check out the documentation: https://antoinemarchal.github.io/ROHSA/\n",
            " \n",
            " run: ./ROHSA parameters.txt\n",
            " -------------------------------------------------------------------------\n",
            " fileout = 'GHIGLS_DFN_Tb_gauss_run_0.dat'\n",
            "\n",
            " ______Parameters_____\n",
            "\n",
            " n_gauss =            3\n",
            " n_gauss_add =            0\n",
            " lambda_amp =    100.00000000000000     \n",
            " lambda_mu =    100.00000000000000     \n",
            " lambda_sig =    100.00000000000000     \n",
            " lambda_var_amp =    0.0000000000000000     \n",
            " lambda_var_mu =    0.0000000000000000     \n",
            " lambda_var_sig =    100.00000000000000     \n",
            " amp_fact_init =   0.66000000000000003     \n",
            " sig_init =    4.0000000000000000     \n",
            " init_option = mean    \n",
            " maxiter_init =        15000\n",
            " maxiter =          400\n",
            " lstd =            1\n",
            " ustd =           20\n",
            " noise =  F\n",
            " regul =  T\n",
            " descent =  T\n",
            "\n",
            " dim_v, dim_y, dim_x =          490          32          32\n",
            " \n",
            " number of los =         1024\n",
            " nside =            5\n",
            "\n",
            " Reshape cube, new dimensions :\n",
            " dim_v, dim_y, dim_x =          490          32          32\n",
            "\n",
            " Compute mean and std spectrum\n",
            "                     Start iteration\n",
            "\n",
            " Start hierarchical descent\n",
            " Init mean spectrum\n",
            " Update level           0\n",
            " \n",
            " Interpolate parameters level            0\n",
            " Update level           1 >           2\n",
            " \n",
            " Interpolate parameters level            1\n",
            " Update level           2 >           4\n",
            " \n",
            " Interpolate parameters level            2\n",
            " Update level           3 >           8\n",
            " \n",
            " Interpolate parameters level            3\n",
            " Update level           4 >          16\n",
            " \n",
            " Interpolate parameters level            4\n",
            "\n",
            " Reshape cube, restore initial dimensions :\n",
            " dim_v, dim_y, dim_x =          490          32          32\n",
            "\n",
            " Update last level ...\n",
            "\n",
            "\n",
            " _____ Write output file _____\n",
            "\n",
            " ##################################################################\n",
            "14 October 2018   6:21:10.807 PM\n",
            "  Terminate\n",
            "                         ROHSA ALGORITHM\n",
            " \n",
            " ##################################################################\n"
          ],
          "name": "stdout"
        }
      ]
    },
    {
      "metadata": {
        "id": "FGjMub-kcCBp",
        "colab_type": "text"
      },
      "cell_type": "markdown",
      "source": [
        "### Reading the result of the Gaussian decomposition using ROHSA.read_gaussian() - fixme add some informations : gaussian[:3] = amp0/mean0/sig0 etc..."
      ]
    },
    {
      "metadata": {
        "id": "pu_SeqYl-B1O",
        "colab_type": "code",
        "colab": {
          "base_uri": "https://localhost:8080/",
          "height": 34
        },
        "outputId": "5f1cf4eb-cfd2-4697-9617-65d0682b5805"
      },
      "cell_type": "code",
      "source": [
        "gaussian = core.read_gaussian(\"GHIGLS_DFN_Tb_gauss_run_0.dat\")"
      ],
      "execution_count": 6,
      "outputs": [
        {
          "output_type": "stream",
          "text": [
            "Opening data file\n"
          ],
          "name": "stdout"
        }
      ]
    },
    {
      "metadata": {
        "id": "nYnB3qwy3pvZ",
        "colab_type": "code",
        "colab": {
          "base_uri": "https://localhost:8080/",
          "height": 364
        },
        "outputId": "62a48c1f-af4d-4212-c1c2-2aa7664c8a35"
      },
      "cell_type": "code",
      "source": [
        "plt.imshow(gaussian[6]*gaussian[8], origin=\"lower\", cmap=\"inferno\")\n",
        "plt.axis(\"off\")\n",
        "\n",
        "\n"
      ],
      "execution_count": 7,
      "outputs": [
        {
          "output_type": "execute_result",
          "data": {
            "text/plain": [
              "(-0.5, 31.5, -0.5, 31.5)"
            ]
          },
          "metadata": {
            "tags": []
          },
          "execution_count": 7
        },
        {
          "output_type": "display_data",
          "data": {
            "image/png": "[encoded data removed]",
            "text/plain": [
              "<matplotlib.figure.Figure at 0x7fe882d49ac8>"
            ]
          },
          "metadata": {
            "tags": []
          }
        }
      ]
    },
    {
      "metadata": {
        "id": "pC2NzGUhkz3H",
        "colab_type": "text"
      },
      "cell_type": "markdown",
      "source": [
        "#### jnk"
      ]
    },
    {
      "metadata": {
        "id": "yYg-z7TYfkpW",
        "colab_type": "code",
        "colab": {
          "base_uri": "https://localhost:8080/",
          "height": 1015
        },
        "outputId": "1e98fadf-88e2-44b6-8e19-d56c6d1e3019"
      },
      "cell_type": "code",
      "source": [
        "#Constant\n",
        "C = 1.82243e18\n",
        "\n",
        "def mean2vel(CRVAL, CDELT, CRPIX, mean):\n",
        "    vel = [(CRVAL + CDELT * (mean[i] - CRPIX)) for i in range(len(mean))]                                                                                                                                                                                                                          \n",
        "    return vel\n",
        "  \n",
        "CDELT = hdr['CDELT3'] *1.e-3  #km.s-1                                                                                                                                                                                                                                                                                      \n",
        "CRVAL = hdr['CRVAL3'] *1.e-3  #km.s-1                                                                                                                                                                                                                                                                                      \n",
        "CRPIX = hdr['CRPIX3']\n",
        "\n",
        "reso = np.abs(CRPIX)\n",
        "\n",
        "v = mean2vel(CRVAL, CDELT, CRPIX, np.arange(cube.shape[0]))\n",
        "vmean = mean2vel(CRVAL, CDELT, CRPIX, mean)\n",
        "\n",
        "            \n",
        "fields = [np.sqrt(2.*np.pi) * params[0+(3*k)] * params[2+(3*k)] for k in np.arange(n_gauss)]\n",
        "field = [f * C / 1.e18 for f in fields]\n",
        "ampfield = [params[0+(3*k)] for k in np.arange(n_gauss)]\n",
        "vfield = [params[1+(3*k)] for k in np.arange(n_gauss)]\n",
        "sigfield = [params[2+(3*k)] for k in np.arange(n_gauss)]\n",
        "\n",
        "#Some packages and functions\n",
        "import numpy as np\n",
        "import matplotlib.pyplot as plt\n",
        "from astropy.io import fits\n",
        "from matplotlib import ticker\n",
        "from mpl_toolkits.axes_grid1 import make_axes_locatable\n",
        "\n",
        "plt.ion()\n",
        "\n",
        "cm_coolwarm = plt.get_cmap('coolwarm')\n",
        "cm_coolwarm.set_bad(color='black')\n",
        "imkw_coolwarm = dict(origin='lower', interpolation='none', cmap=cm_coolwarm)\n",
        "\n",
        "cm_inferno = plt.get_cmap('inferno')\n",
        "cm_inferno.set_bad(color='black')\n",
        "imkw_inferno = dict(origin='lower', interpolation='none', cmap=cm_inferno)\n",
        "\n",
        "cm_cubehelix = plt.get_cmap('cubehelix')\n",
        "cm_cubehelix.set_bad(color='black')\n",
        "imkw_cubehelix = dict(origin='lower', interpolation='none', cmap=cm_cubehelix)\n",
        "\n",
        "lh = 3; lw = 3\n",
        "fig, axs = plt.subplots(lh, lw, sharex=True, sharey=True, figsize=(8,10.5))\n",
        "fig.subplots_adjust(top=1.02, bottom=0.03, left=0.01, right=0.99, hspace=0.01, wspace=0.02)\n",
        "k = 0\n",
        "\n",
        "for i in np.arange(lw):\n",
        "  im1 = axs[0][i].imshow(field[i], **imkw_inferno)\n",
        "  axs[0][i].axis('off')\n",
        "  divider = make_axes_locatable(axs[0][i])\n",
        "  cax = divider.append_axes('bottom', size='4%', pad=0.05)\n",
        "  cbar = fig.colorbar(im1, cax=cax, orientation='horizontal', extend=\"both\")\n",
        "  tick_locator = ticker.MaxNLocator(nbins=4)\n",
        "  cbar.locator = tick_locator\n",
        "  cbar.update_ticks()\n",
        "  cbar.ax.tick_params(labelsize=14.)\n",
        "  cbar.set_label(r\"N$_{HI}$ / [10$^{18}$ cm$^{-2}$]\", fontsize=14.)\n",
        "\n",
        "  im2 = axs[1][i].imshow(vfield[i], **imkw_coolwarm)\n",
        "  axs[1][i].axis('off')\n",
        "  divider = make_axes_locatable(axs[1][i])\n",
        "  cax = divider.append_axes('bottom', size='4%', pad=0.05)\n",
        "  cbar = fig.colorbar(im2, cax=cax, orientation='horizontal', extend=\"both\")\n",
        "  tick_locator = ticker.MaxNLocator(nbins=4)\n",
        "  cbar.locator = tick_locator\n",
        "  cbar.update_ticks()\n",
        "  cbar.ax.tick_params(labelsize=14.)\n",
        "  cbar.set_label(r\"v [km s$^{-1}$]\", fontsize=14.)\n",
        "\n",
        "\n",
        "  im3 = axs[2][i].imshow(sigfield[i], **imkw_cubehelix)\n",
        "  axs[2][i].axis('off')\n",
        "  divider = make_axes_locatable(axs[2][i])\n",
        "  cax = divider.append_axes('bottom', size='4%', pad=0.05)\n",
        "  cbar = fig.colorbar(im3, cax=cax, orientation='horizontal', extend=\"both\")\n",
        "  tick_locator = ticker.MaxNLocator(nbins=4)\n",
        "  cbar.locator = tick_locator\n",
        "  cbar.update_ticks()\n",
        "  cbar.ax.tick_params(labelsize=14.)\n",
        "  cbar.set_label(r\"$\\sigma$ [km s$^{-1}$]\", fontsize=14.)\n",
        "\n"
      ],
      "execution_count": 10,
      "outputs": [
        {
          "output_type": "error",
          "ename": "NameError",
          "evalue": "ignored",
          "traceback": [
            "\u001b[0;31m---------------------------------------------------------------------------\u001b[0m",
            "\u001b[0;31mNameError\u001b[0m                                 Traceback (most recent call last)",
            "\u001b[0;32m<ipython-input-10-33f251ebd73e>\u001b[0m in \u001b[0;36m<module>\u001b[0;34m()\u001b[0m\n\u001b[1;32m     25\u001b[0m \u001b[0;34m\u001b[0m\u001b[0m\n\u001b[1;32m     26\u001b[0m \u001b[0;32mfor\u001b[0m \u001b[0mi\u001b[0m \u001b[0;32min\u001b[0m \u001b[0mnp\u001b[0m\u001b[0;34m.\u001b[0m\u001b[0marange\u001b[0m\u001b[0;34m(\u001b[0m\u001b[0mlw\u001b[0m\u001b[0;34m)\u001b[0m\u001b[0;34m:\u001b[0m\u001b[0;34m\u001b[0m\u001b[0m\n\u001b[0;32m---> 27\u001b[0;31m   \u001b[0mim1\u001b[0m \u001b[0;34m=\u001b[0m \u001b[0maxs\u001b[0m\u001b[0;34m[\u001b[0m\u001b[0;36m0\u001b[0m\u001b[0;34m]\u001b[0m\u001b[0;34m[\u001b[0m\u001b[0mi\u001b[0m\u001b[0;34m]\u001b[0m\u001b[0;34m.\u001b[0m\u001b[0mimshow\u001b[0m\u001b[0;34m(\u001b[0m\u001b[0mfield\u001b[0m\u001b[0;34m[\u001b[0m\u001b[0mi\u001b[0m\u001b[0;34m]\u001b[0m\u001b[0;34m,\u001b[0m \u001b[0;34m**\u001b[0m\u001b[0mimkw_inferno\u001b[0m\u001b[0;34m)\u001b[0m\u001b[0;34m\u001b[0m\u001b[0m\n\u001b[0m\u001b[1;32m     28\u001b[0m   \u001b[0maxs\u001b[0m\u001b[0;34m[\u001b[0m\u001b[0;36m0\u001b[0m\u001b[0;34m]\u001b[0m\u001b[0;34m[\u001b[0m\u001b[0mi\u001b[0m\u001b[0;34m]\u001b[0m\u001b[0;34m.\u001b[0m\u001b[0maxis\u001b[0m\u001b[0;34m(\u001b[0m\u001b[0;34m'off'\u001b[0m\u001b[0;34m)\u001b[0m\u001b[0;34m\u001b[0m\u001b[0m\n\u001b[1;32m     29\u001b[0m   \u001b[0mdivider\u001b[0m \u001b[0;34m=\u001b[0m \u001b[0mmake_axes_locatable\u001b[0m\u001b[0;34m(\u001b[0m\u001b[0maxs\u001b[0m\u001b[0;34m[\u001b[0m\u001b[0;36m0\u001b[0m\u001b[0;34m]\u001b[0m\u001b[0;34m[\u001b[0m\u001b[0mi\u001b[0m\u001b[0;34m]\u001b[0m\u001b[0;34m)\u001b[0m\u001b[0;34m\u001b[0m\u001b[0m\n",
            "\u001b[0;31mNameError\u001b[0m: name 'field' is not defined"
          ]
        },
        {
          "output_type": "display_data",
          "data": {
            "image/png": "[encoded data removed]",
            "text/plain": [
              "<matplotlib.figure.Figure at 0x7f26051c42e8>"
            ]
          },
          "metadata": {
            "tags": []
          }
        }
      ]
    },
    {
      "metadata": {
        "id": "LLZiWQ3Z4Swi",
        "colab_type": "code",
        "colab": {}
      },
      "cell_type": "code",
      "source": [
        ""
      ],
      "execution_count": 0,
      "outputs": []
    }
  ]
}